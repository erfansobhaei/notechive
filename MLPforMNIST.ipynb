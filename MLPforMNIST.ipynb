{
  "nbformat": 4,
  "nbformat_minor": 0,
  "metadata": {
    "colab": {
      "name": "Q5.ipynb",
      "provenance": [],
      "collapsed_sections": []
    },
    "kernelspec": {
      "name": "python3",
      "display_name": "Python 3"
    },
    "language_info": {
      "name": "python"
    }
  },
  "cells": [
    {
      "cell_type": "markdown",
      "metadata": {
        "id": "ZNTc4ZPeNfo4"
      },
      "source": [
        "# MLP for MNIST Classification"
      ]
    },
    {
      "cell_type": "markdown",
      "metadata": {
        "id": "I1gQjLbIJGrF"
      },
      "source": [
        "## Introduction"
      ]
    },
    {
      "cell_type": "markdown",
      "metadata": {
        "id": "tquWikidJopz"
      },
      "source": [
        "In this notebook, we will going to create, train, and evaluate a [MLP (Multilayer Perceptron)](https://en.wikipedia.org/wiki/Multilayer_perceptron) to classify handwritten digits for MNIST dataset.\n",
        "\n",
        "The libraries for doing this task are [Tensorflow](tensorflow.org) and [NumPy](https://numpy.org/), and for visualizatoin purposes, [matplotlib](https://matplotlib.org/) will be used."
      ]
    },
    {
      "cell_type": "markdown",
      "metadata": {
        "id": "IBi7H5qE7oYx"
      },
      "source": [
        "First we need to import the libarries for further use:"
      ]
    },
    {
      "cell_type": "code",
      "metadata": {
        "id": "Kj_5q-o7Csnm"
      },
      "source": [
        "import numpy as np\n",
        "import matplotlib.pyplot as plt\n",
        "import tensorflow as tf\n",
        "from tensorflow.keras import layers"
      ],
      "execution_count": null,
      "outputs": []
    },
    {
      "cell_type": "markdown",
      "metadata": {
        "id": "JIAv7g3eJN3y"
      },
      "source": [
        "## Data Preprocess"
      ]
    },
    {
      "cell_type": "markdown",
      "metadata": {
        "id": "VRKJs9L17xml"
      },
      "source": [
        "Next, we will load the MNIST dataset and divide it into training and test sets."
      ]
    },
    {
      "cell_type": "code",
      "metadata": {
        "id": "qCX4d5eWS6bx",
        "colab": {
          "base_uri": "https://localhost:8080/"
        },
        "outputId": "5ba9f909-2c66-40a8-88f4-dc42273dcc02"
      },
      "source": [
        "# Load and divide MNIST dataset\n",
        "(X_train, y_train), (X_test, y_test) = tf.keras.datasets.mnist.load_data()\n",
        "\n",
        "print('Shape of X_train:{}\\nShape of X_test:{}'.format(X_train.shape, X_test.shape))"
      ],
      "execution_count": null,
      "outputs": [
        {
          "output_type": "stream",
          "name": "stdout",
          "text": [
            "Downloading data from https://storage.googleapis.com/tensorflow/tf-keras-datasets/mnist.npz\n",
            "11493376/11490434 [==============================] - 0s 0us/step\n",
            "11501568/11490434 [==============================] - 0s 0us/step\n",
            "Shape of X_train:(60000, 28, 28)\n",
            "Shape of X_test:(10000, 28, 28)\n"
          ]
        }
      ]
    },
    {
      "cell_type": "markdown",
      "metadata": {
        "id": "Sz5UiZ6n79MP"
      },
      "source": [
        "Let's see a random sample of training set with its actual label."
      ]
    },
    {
      "cell_type": "code",
      "metadata": {
        "id": "amp52TDWUK1g",
        "colab": {
          "base_uri": "https://localhost:8080/",
          "height": 281
        },
        "outputId": "a44998f8-ebd5-4587-ab7a-ecf0f8c62cf6"
      },
      "source": [
        "# Generate a random number and use it as index\n",
        "rand_index = tf.random.uniform(shape=(), minval=1, maxval=60000, dtype=tf.int32)\n",
        "plt.imshow(X_train[rand_index])\n",
        "plt.title('Label=' + str(y_train[rand_index]))\n",
        "plt.show()"
      ],
      "execution_count": null,
      "outputs": [
        {
          "output_type": "display_data",
          "data": {
            "image/png": "[encoded data removed]",
            "text/plain": [
              "<Figure size 432x288 with 1 Axes>"
            ]
          },
          "metadata": {
            "needs_background": "light"
          }
        }
      ]
    },
    {
      "cell_type": "markdown",
      "metadata": {
        "id": "cfeyU30H8DYH"
      },
      "source": [
        "What are the properties of each set? The next code code snippet will print `dtype`, minimum, maximum and range of data."
      ]
    },
    {
      "cell_type": "code",
      "metadata": {
        "id": "FowPwXSTVsEA",
        "colab": {
          "base_uri": "https://localhost:8080/"
        },
        "outputId": "88ff32d8-e65a-40d8-a206-0a4de9f4a504"
      },
      "source": [
        "# Print some properties of X_train and X_test\n",
        "print('dtype =',X_train[rand_index].dtype)\n",
        "print('min =',X_train[rand_index].min())\n",
        "print('max =',X_train[rand_index].max())\n",
        "print('range =',X_train[rand_index].ptp())"
      ],
      "execution_count": null,
      "outputs": [
        {
          "output_type": "stream",
          "name": "stdout",
          "text": [
            "dtype = uint8\n",
            "min = 0\n",
            "max = 255\n",
            "range = 255\n"
          ]
        }
      ]
    },
    {
      "cell_type": "markdown",
      "metadata": {
        "id": "66pcMv5w8ZPQ"
      },
      "source": [
        "As we can see, the pixel values are unsigned integers (`uint8`) between 0 and 255, but it is better for network to have `float32` values between 0 and 1, so we will scale values in the next lines.\n",
        "\n",
        "It will also flatten the data because the network gets one dimensional input."
      ]
    },
    {
      "cell_type": "code",
      "metadata": {
        "id": "ROutvGBWW32Q"
      },
      "source": [
        "# Type casting to floating point \n",
        "X_train = X_train.astype('float32')\n",
        "X_test = X_test.astype('float32')\n",
        "\n",
        "# Scale the data\n",
        "X_train = X_train / 255\n",
        "X_test = X_test / 255\n",
        "\n",
        "# Flatten the data\n",
        "X_train = X_train.reshape(60000, 28*28)\n",
        "X_test = X_test.reshape(10000, 28*28)"
      ],
      "execution_count": null,
      "outputs": []
    },
    {
      "cell_type": "markdown",
      "metadata": {
        "id": "sNbTwvsX9UZi"
      },
      "source": [
        "The network will calculate the probabilty of each digit, so we will apply one hot encoding to our desired outputs. The new labels are as follows:\n",
        "\n",
        "| # | 0 | 1 | 2 | 3 | 4 | 5 | 6 | 7 | 8 | 9 |\n",
        "|---|---|---|---|---|---|---|---|---|---|---|\n",
        "| 0 | 1 | 0 | 0 | 0 | 0 | 0 | 0 | 0 | 0 | 0 |\n",
        "| 1 | 0 | 1 | 0 | 0 | 0 | 0 | 0 | 0 | 0 | 0 |\n",
        "| 2 | 0 | 0 | 1 | 0 | 0 | 0 | 0 | 0 | 0 | 0 |\n",
        "| 3 | 0 | 0 | 0 | 1 | 0 | 0 | 0 | 0 | 0 | 0 |\n",
        "| 4 | 0 | 0 | 0 | 0 | 1 | 0 | 0 | 0 | 0 | 0 |\n",
        "| 5 | 0 | 0 | 0 | 0 | 0 | 1 | 0 | 0 | 0 | 0 |\n",
        "| 6 | 0 | 0 | 0 | 0 | 0 | 0 | 1 | 0 | 0 | 0 |\n",
        "| 7 | 0 | 0 | 0 | 0 | 0 | 0 | 0 | 1 | 0 | 0 |\n",
        "| 8 | 0 | 0 | 0 | 0 | 0 | 0 | 0 | 0 | 1 | 0 |\n",
        "| 9 | 0 | 0 | 0 | 0 | 0 | 0 | 0 | 0 | 0 | 1 |"
      ]
    },
    {
      "cell_type": "code",
      "metadata": {
        "id": "fJ_4_mnVXmbU",
        "colab": {
          "base_uri": "https://localhost:8080/"
        },
        "outputId": "11093599-b667-42ab-f7e0-d8b5b2aa509d"
      },
      "source": [
        "# Apply one hot encoder\n",
        "y_train_OH = tf.one_hot(y_train, 10)\n",
        "y_test_OH = tf.one_hot(y_test, 10)\n",
        "\n",
        "print('Label of sample #{} is {} and onehot mode is {}'.format(\n",
        "    rand_index,\n",
        "    y_train[rand_index],\n",
        "    y_train_OH[rand_index]\n",
        "))"
      ],
      "execution_count": null,
      "outputs": [
        {
          "output_type": "stream",
          "name": "stdout",
          "text": [
            "Label of sample #57713 is 4 and onehot mode is [0. 0. 0. 0. 1. 0. 0. 0. 0. 0.]\n"
          ]
        }
      ]
    },
    {
      "cell_type": "markdown",
      "metadata": {
        "id": "W_HVDSV_JUSi"
      },
      "source": [
        "## Model Creation"
      ]
    },
    {
      "cell_type": "markdown",
      "metadata": {
        "id": "L5fDoDbIDwQC"
      },
      "source": [
        "We will create a artificial neural network for classifying the digits. The model will have two hidden layer which will use relu activitaion function and have 512 neurons.\n",
        "\n",
        "The output layer has sigmoid activitation function which will calculate the probabilty of corresponding digit."
      ]
    },
    {
      "cell_type": "code",
      "metadata": {
        "id": "Vsr53AnqYFcH",
        "colab": {
          "base_uri": "https://localhost:8080/"
        },
        "outputId": "29909746-ae43-4dea-92b9-3559e8084a85"
      },
      "source": [
        "# Create a Sequential with 3 layers\n",
        "model = tf.keras.models.Sequential(\n",
        "    [\n",
        "     layers.Dense(512, activation='relu', input_shape=(28*28,)),\n",
        "     layers.Dense(512, activation='relu'),\n",
        "     layers.Dense(10, activation='sigmoid'),\n",
        "    ]\n",
        ")\n",
        "\n",
        "model.summary()"
      ],
      "execution_count": null,
      "outputs": [
        {
          "output_type": "stream",
          "name": "stdout",
          "text": [
            "Model: \"sequential\"\n",
            "_________________________________________________________________\n",
            " Layer (type)                Output Shape              Param #   \n",
            "=================================================================\n",
            " dense (Dense)               (None, 512)               401920    \n",
            "                                                                 \n",
            " dense_1 (Dense)             (None, 512)               262656    \n",
            "                                                                 \n",
            " dense_2 (Dense)             (None, 10)                5130      \n",
            "                                                                 \n",
            "=================================================================\n",
            "Total params: 669,706\n",
            "Trainable params: 669,706\n",
            "Non-trainable params: 0\n",
            "_________________________________________________________________\n"
          ]
        }
      ]
    },
    {
      "cell_type": "markdown",
      "metadata": {
        "id": "vlp9fsQfEZD9"
      },
      "source": [
        "Next, we will compile the model using `categorical_crossentropy` loss function and `accuracy` as its metric."
      ]
    },
    {
      "cell_type": "code",
      "metadata": {
        "id": "sz0PMLIXY-g1"
      },
      "source": [
        "# Compile model with proper arguments\n",
        "model.compile(\n",
        "    loss='categorical_crossentropy',\n",
        "    metrics=['accuracy']\n",
        ")"
      ],
      "execution_count": null,
      "outputs": []
    },
    {
      "cell_type": "markdown",
      "metadata": {
        "id": "VrDe0pRmJZMo"
      },
      "source": [
        "## Model Training"
      ]
    },
    {
      "cell_type": "markdown",
      "metadata": {
        "id": "MS_dcfdwElLF"
      },
      "source": [
        "Our model is ready, so we need to fit it on the training data.\n",
        "\n",
        "We will train it in mini-batch mode, and for 10 epochs."
      ]
    },
    {
      "cell_type": "code",
      "metadata": {
        "id": "qv2V_9xPZHxK",
        "colab": {
          "base_uri": "https://localhost:8080/"
        },
        "outputId": "0a38c509-284b-4cbf-df4b-9234a46f0941"
      },
      "source": [
        "# Train model for 10 epochs using mini-batches with size of 64\n",
        "model.fit(\n",
        "    X_train, y_train_OH,\n",
        "    batch_size=64,\n",
        "    epochs=10,\n",
        "    verbose=1,\n",
        ")"
      ],
      "execution_count": null,
      "outputs": [
        {
          "output_type": "stream",
          "name": "stdout",
          "text": [
            "Epoch 1/10\n",
            "938/938 [==============================] - 13s 13ms/step - loss: 0.1958 - accuracy: 0.9401\n",
            "Epoch 2/10\n",
            "938/938 [==============================] - 13s 13ms/step - loss: 0.0834 - accuracy: 0.9761\n",
            "Epoch 3/10\n",
            "938/938 [==============================] - 13s 14ms/step - loss: 0.0602 - accuracy: 0.9830\n",
            "Epoch 4/10\n",
            "938/938 [==============================] - 13s 14ms/step - loss: 0.0474 - accuracy: 0.9872\n",
            "Epoch 5/10\n",
            "938/938 [==============================] - 13s 13ms/step - loss: 0.0381 - accuracy: 0.9895\n",
            "Epoch 6/10\n",
            "938/938 [==============================] - 13s 13ms/step - loss: 0.0327 - accuracy: 0.9916\n",
            "Epoch 7/10\n",
            "938/938 [==============================] - 12s 13ms/step - loss: 0.0308 - accuracy: 0.9923\n",
            "Epoch 8/10\n",
            "938/938 [==============================] - 11s 12ms/step - loss: 0.0241 - accuracy: 0.9938\n",
            "Epoch 9/10\n",
            "938/938 [==============================] - 11s 12ms/step - loss: 0.0214 - accuracy: 0.9947\n",
            "Epoch 10/10\n",
            "938/938 [==============================] - 11s 12ms/step - loss: 0.0214 - accuracy: 0.9948\n"
          ]
        },
        {
          "output_type": "execute_result",
          "data": {
            "text/plain": [
              "<keras.callbacks.History at 0x7f5054f6e590>"
            ]
          },
          "metadata": {},
          "execution_count": 9
        }
      ]
    },
    {
      "cell_type": "markdown",
      "metadata": {
        "id": "aVhTfeJ_JgoP"
      },
      "source": [
        "## Model Evaluation"
      ]
    },
    {
      "cell_type": "markdown",
      "metadata": {
        "id": "Q6ZcH46CE2O2"
      },
      "source": [
        "The model is trained so we need to evaluate it on the test dataset."
      ]
    },
    {
      "cell_type": "code",
      "metadata": {
        "id": "smtBH5LoamPB",
        "colab": {
          "base_uri": "https://localhost:8080/"
        },
        "outputId": "1fad4811-2476-4871-95f0-4a9cac0b9cf2"
      },
      "source": [
        "# Calculating the loss function and accuracy on test set\n",
        "score = model.evaluate(X_test, y_test_OH, batch_size=128)\n",
        "\n",
        "print('loss: {}\\naccuracy: {}'.format(score[0], score[1]))"
      ],
      "execution_count": null,
      "outputs": [
        {
          "output_type": "stream",
          "name": "stdout",
          "text": [
            "79/79 [==============================] - 1s 6ms/step - loss: 0.1736 - accuracy: 0.9809\n",
            "loss: 0.17358194291591644\n",
            "accuracy: 0.98089998960495\n"
          ]
        }
      ]
    },
    {
      "cell_type": "markdown",
      "metadata": {
        "id": "D4zvKuIiFHPb"
      },
      "source": [
        "The difference between training and test results is not huge so it is not overfitted and works properly.\n",
        "\n",
        "Let's see an example of wrong predicted samples."
      ]
    },
    {
      "cell_type": "code",
      "metadata": {
        "id": "f7vUk1LsbvhK",
        "colab": {
          "base_uri": "https://localhost:8080/",
          "height": 316
        },
        "outputId": "fe4ca3b7-8469-4b8c-a379-814b7ae9e21d"
      },
      "source": [
        "# Convert one hot coded prediction to digtis\n",
        "preds = np.argmax(model.predict(X_test),axis=1)\n",
        "\n",
        "# Find wrong predicted samples on test set\n",
        "wrong_indices = np.nonzero(preds != y_test)[0]\n",
        "print('Number of wrong predictions:',len(wrong_indices),end='\\n\\n')\n",
        "\n",
        "# Display first wrong prediction\n",
        "sample_index = wrong_indices[0]\n",
        "plt.imshow(X_test[sample_index].reshape(28, 28))\n",
        "plt.title('Desired Label:'+str(y_test[sample_index])+\n",
        "          ' Predicted Label:'+str(preds[sample_index]))\n",
        "plt.show()"
      ],
      "execution_count": null,
      "outputs": [
        {
          "output_type": "stream",
          "name": "stdout",
          "text": [
            "Number of wrong predictions: 195\n",
            "\n"
          ]
        },
        {
          "output_type": "display_data",
          "data": {
            "image/png": "[encoded data removed]",
            "text/plain": [
              "<Figure size 432x288 with 1 Axes>"
            ]
          },
          "metadata": {
            "needs_background": "light"
          }
        }
      ]
    }
  ]
}